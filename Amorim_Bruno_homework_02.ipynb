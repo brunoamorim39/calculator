{
  "nbformat": 4,
  "nbformat_minor": 0,
  "metadata": {
    "kernelspec": {
      "display_name": "Python 3",
      "language": "python",
      "name": "python3"
    },
    "language_info": {
      "codemirror_mode": {
        "name": "ipython",
        "version": 3
      },
      "file_extension": ".py",
      "mimetype": "text/x-python",
      "name": "python",
      "nbconvert_exporter": "python",
      "pygments_lexer": "ipython3",
      "version": "3.7.7"
    },
    "colab": {
      "name": "Amorim_Bruno_homework_02.ipynb",
      "provenance": [],
      "include_colab_link": true
    }
  },
  "cells": [
    {
      "cell_type": "markdown",
      "metadata": {
        "id": "view-in-github",
        "colab_type": "text"
      },
      "source": [
        "<a href=\"https://colab.research.google.com/github/brunoamorim39/calculator/blob/main/Amorim_Bruno_homework_02.ipynb\" target=\"_parent\"><img src=\"https://colab.research.google.com/assets/colab-badge.svg\" alt=\"Open In Colab\"/></a>"
      ]
    },
    {
      "cell_type": "markdown",
      "metadata": {
        "id": "q8NdnFcSrUxW"
      },
      "source": [
        "# Homework 2\n",
        "\n",
        "**Due 9/20/2020.**\n",
        "\n",
        "## References\n",
        "\n",
        "+ Lectures 3-4 (inclusive).\n",
        "\n",
        "## Instructions\n",
        "\n",
        "+ Type your name and email in the \"Student details\" section below.\n",
        "+ Develop the code and generate the figures you need to solve the problems using this notebook.\n",
        "+ For the answers that require a mathematical proof or derivation you can either:\n",
        "    \n",
        "    - Type the answer using the built-in latex capabilities. In this case, simply export the notebook as a pdf and upload it on gradescope; or\n",
        "    - You can print the notebook (after you are done with all the code), write your answers by hand, scan, turn your response to a single pdf, and upload on gradescope.\n",
        "\n",
        "+ The total homework points are 100. Please note that the problems are not weighed equally.\n",
        "\n",
        "**Note**: Please match all the pages corresponding to each of the questions when you submit on gradescope."
      ]
    },
    {
      "cell_type": "code",
      "metadata": {
        "id": "j8oUMQWQrUxb"
      },
      "source": [
        "# Here are some modules that you may need - please run this block of code:\n",
        "import matplotlib.pyplot as plt\n",
        "%matplotlib inline\n",
        "import seaborn as sns\n",
        "sns.set_context('paper')\n",
        "import numpy as np\n",
        "import scipy\n",
        "import scipy.stats as st\n",
        "# A helper function for downloading files\n",
        "import requests\n",
        "import os\n",
        "def download(url, local_filename=None):\n",
        "    \"\"\"\n",
        "    Downloads the file in the ``url`` and saves it in the current working directory.\n",
        "    \"\"\"\n",
        "    data = requests.get(url)\n",
        "    if local_filename is None:\n",
        "        local_filename = os.path.basename(url)\n",
        "    with open(local_filename, 'wb') as fd:\n",
        "        fd.write(data.content)"
      ],
      "execution_count": null,
      "outputs": []
    },
    {
      "cell_type": "markdown",
      "metadata": {
        "id": "jwzoLpMbrUxc"
      },
      "source": [
        "## Student details\n",
        "\n",
        "+ **First Name:** Bruno\n",
        "+ **Last Name:** Amorim\n",
        "+ **Email:** bamorim@purdue.edu"
      ]
    },
    {
      "cell_type": "markdown",
      "metadata": {
        "id": "8_7VI3IdrUxc"
      },
      "source": [
        "## Problem 1 - Probability as an extension of logic\n",
        "\n",
        "This exercise demonstrates that probability theory is actually an extension of logic. Assume that you know that ``A implies B\". That is, your prior information is:\n",
        "$$\n",
        "I = \\{A \\implies B\\}.\n",
        "$$\n",
        "Please answer the following questions in the space provided:\n",
        "\n",
        "A. (4 points) $p(AB|I) = p(A|I)$.<br>\n",
        "**Proof:**<br>\n",
        "$$\n",
        "\\begin{split}\n",
        "p(AB|I) &=& p(B|A,I)p(A|I)\\;\\text{(product rule)}\\\\\n",
        "&=& 1\\left[p(A|I)\\right]\\\\\n",
        "&=& p(A|I)\n",
        "\\end{split}\n",
        "$$\n",
        "<br>"
      ]
    },
    {
      "cell_type": "markdown",
      "metadata": {
        "id": "UcYTUAibrUxd"
      },
      "source": [
        "B. If $p(A|I) = 1$, then $p(B|I) = 1$.<br>\n",
        "**Proof:**<br>\n",
        "$$\n",
        "\\begin{split}\n",
        "p(A|I) &=& \\dfrac{p(AB|I)} {p(B|A,I)}\\;\\text{(product rule)}\\\\\n",
        "&=& \\dfrac{p(A|B,I)p(B|I)} {p(B|A,I)}\\;\\text{(product rule)}\\\\\n",
        "&=& \\dfrac{p(A|B,I)p(B|I)p(A|I)} {p(AB|I)}\\;\\text{(product rule)}\\\\\n",
        "&=& \\dfrac{1\\left[p(B|I)p(A|I)\\right]} {p(A|I)}\\\\\n",
        "&=& p(B|I)\n",
        "\\end{split}\n",
        "$$\n",
        "<br>"
      ]
    },
    {
      "cell_type": "markdown",
      "metadata": {
        "id": "GkYP1LDgrUxd"
      },
      "source": [
        "C. If $p(B|I) = 0$, then $p(A|I) = 0$.<br>\n",
        "**Proof:**<br>\n",
        "$$\n",
        "\\begin{split}\n",
        "p(B|I) &=& \\dfrac{p(AB|I)} {p(A|B,I)}\\;\\text{(product rule)}\\\\\n",
        "&=& \\dfrac{p(B|A,I)p(A|I)} {p(B|A,I)}\\;\\text{(product rule)}\\\\\n",
        "&=& \\dfrac{p(B|A,I)p(A|I)p(B|I)} {p(AB|I)}\\;\\text{(product rule)}\\\\\n",
        "&=& \\dfrac{1\\left[p(A|I)p(B|I)\\right]}{p(B|I)}\\\\\n",
        "&=& p(A|I)\n",
        "\\end{split}\n",
        "$$\n",
        "<br>"
      ]
    },
    {
      "cell_type": "markdown",
      "metadata": {
        "id": "o8WENsEMrUxd"
      },
      "source": [
        "D. B and C show that probability theory is consistent with Aristotelian logic. Now, you will discover how it extends it. Show that if B is true, then A becomes more plausible, i.e.\n",
        "$$\n",
        "p(A|BI) \\geq p(A|I).\n",
        "$$\n",
        "**Proof:**<br>\n",
        "$$\n",
        "\\begin{split}\n",
        "p(A|BI) &\\geq& \\dfrac{p(AB|I)}{p(B|I)}\\;\\text{(product rule)}\\\\\n",
        "&\\geq& \\dfrac{p(B|A,I)p(A|I)}{p(B|I)}\\;\\text{(product rule)}\\\\\n",
        "&\\geq& \\dfrac{1\\left[p(A|I)\\right]}{1}\\\\\n",
        "&\\geq& p(A|I)\n",
        "\\end{split}\n",
        "$$\n",
        "<br>"
      ]
    },
    {
      "cell_type": "markdown",
      "metadata": {
        "id": "kkc5Dr2DrUxe"
      },
      "source": [
        "E. Give at least two examples of D that apply to various scientific fields. To get you started, here are two examples:\n",
        "\n",
        "- $A$: It is raining. $B$: There are clouds in the sky. Clearly,  $A \\implies B$. $D$ tells us that if there are clouds in the sky, raining becomes more plausible.\n",
        "    \n",
        "- $A$: General relativity. $B$: Light is deflected in the presence of massive bodies. Here  $A \\implies B$. Observing that $B$ is true makes $A$ more plausible.\n",
        "\n",
        "**Answer:**\n",
        "\n",
        "- $A$: I am more attentive towards the work I am completing.<br><br>\n",
        "  $B$: I am drinking coffee.<br><br>\n",
        "  \n",
        "- $A$: A plane is flying overhead.<br><br>\n",
        "  $B$: There are loud sounds coming from outside.<br><br>"
      ]
    },
    {
      "cell_type": "markdown",
      "metadata": {
        "id": "aqkVXsa_rUxe"
      },
      "source": [
        "F. Show that if $A$ is false, then $B$ becomes less plausible, i.e.: \n",
        "$$\n",
        "p(B|\\neg AI) \\leq p(B|I).\n",
        "$$\n",
        "**Proof:**<br>\n",
        "$$\n",
        "\\begin{split}\n",
        "p(B|\\neg AI) &\\leq& \\dfrac{p(\\neg A,B|I)}{p(\\neg A|I)}\\;\\text{(product rule)}\\\\\n",
        "&\\leq& \\dfrac{p(\\neg A|B,I)p(B|I)}{p(\\neg A|I)}\\;\\text{(product rule)}\\\\\n",
        "&\\leq& \\dfrac{p(\\neg A|B,I)p(B|I)}{1-p(A|I)}\\;\\text{(obvious rule)}\\\\\n",
        "&\\leq& \\dfrac{\\left[1-p(A|B,I)\\right]p(B|I)}{1-p(A|I)}\\;\\text{(obvious rule)}\\\\\n",
        "&\\leq& \\dfrac{p(B|I)-p(A|B,I)p(B|I)}{1-p(A|I)}\\\\\n",
        "&\\leq& \\dfrac{p(B|I)-p(AB|I)}{1-p(A|I)}\\;\\text{(product rule)}\\\\\n",
        "&\\leq& p(B|I)-p(AB|I)\\\\\n",
        "&\\leq& p(B|I)-p(B|A,I)p(A|I)\\;\\text{(product rule)}\\\\\n",
        "&\\leq& p(B|I)\n",
        "\\end{split}\n",
        "$$\n",
        "<br>"
      ]
    },
    {
      "cell_type": "markdown",
      "metadata": {
        "id": "HJl3QhY1rUxe"
      },
      "source": [
        "G. Can you think of an example of scientific reasoning that involves F? For example:\n",
        "$A$: It is raining. $B$: There are clouds in the sky. F tells us that if it is not raining, then it is less plausible that there are clouds in the sky.<br>\n",
        "**Answer:**<br>\n",
        "$A$: A beam is currently experiencing a tensile stress equivalent to its ultimate strength.<br>\n",
        "<br>\n",
        "$B$: The beam has reached its point of fracture.<br>\n",
        "<br>"
      ]
    },
    {
      "cell_type": "markdown",
      "metadata": {
        "id": "qaKj-37YrUxe"
      },
      "source": [
        "## Problem 2 - Medical test analysis\n",
        "\n",
        "Disclaimer: This example is a modified version of the one found in a 2013 lecture on Bayesian Scientific Computing taught by Prof. Nicholas Zabaras.\n",
        "I am not sure where the original problem is coming from.\n",
        "\n",
        "We are tasked with assessing the usefulness of a tuberculosis test.\n",
        "The prior information I is:\n",
        "\n",
        "> The percentage of the population infected by tuberculosis is 0.4\\%.\n",
        "We have run several experiments and determined that:\n",
        "+ If a tested patient has the disease, then 80\\% of the time the test comes out positive.\n",
        "+ If a tested patient does not have the disease, then 90\\% of the time the test comes out negative.\n",
        "\n",
        "To facilitate your analysis, consider the following logical sentences concerning a patient:\n",
        "\n",
        "> A: The patient is tested and the test is positive.\n",
        "\n",
        "> B: The patient has tuberculosis.\n",
        "\n",
        "A. Find the probability that the patient has tuberculosis (before looking at the result of the test), i.e., $p(B|I)$. This is known as the base rate or the prior probability.<br>\n",
        "**Answer:**<br>\n",
        "$$\n",
        "\\begin{split}\n",
        "p(B|I) &=& 0.004\n",
        "\\end{split}\n",
        "$$\n",
        "<br>"
      ]
    },
    {
      "cell_type": "markdown",
      "metadata": {
        "id": "s6I2wY1ErUxf"
      },
      "source": [
        "B. Find the probability that the test is positive given that the patient has tuberculosis, i.e., $p(A|B,I)$.<br>\n",
        "**Answer:**<br>\n",
        "$$\n",
        "\\begin{split}\n",
        "p(A|B,I) &=& 0.80\n",
        "\\end{split}\n",
        "$$\n",
        "<br>"
      ]
    },
    {
      "cell_type": "markdown",
      "metadata": {
        "id": "Z0_NdQIjrUxf"
      },
      "source": [
        "C. Find the probability that the test is positive given that the patient does not have tuberculosis, i.e., $p(A|\\neg B, I)$.<br>\n",
        "**Answer:**<br>\n",
        "$$\n",
        "\\begin{split}\n",
        "p(A|\\neg B,I) &=& (1-0.90)\\\\\n",
        "p(A|\\neg B,I) &=& 0.10\n",
        "\\end{split}\n",
        "$$\n",
        "<br>"
      ]
    },
    {
      "cell_type": "markdown",
      "metadata": {
        "id": "yYNG5aDwrUxf"
      },
      "source": [
        "D. Find the probability that a patient that tested positive has tuberculosis, i.e., $p(B|A,I)$.<br>\n",
        "**Answer:**<br>\n",
        "$$\n",
        "\\begin{split}\n",
        "p(B|A,I) &=& \\dfrac {p(AB|I)} {p(A|I)}\\\\\n",
        "p(B|A,I) &=& \\dfrac {p(A|B,I)p(B|I)} {p(A|I)}\\\\\n",
        "p(B|A,I) &=& \\dfrac {p(A|B,I)p(B|I)} {p(A|B,I)p(B|I)+p(A|\\neg B,I)p(\\neg B|I)}\\\\\n",
        "p(B|A,I) &=& \\dfrac {0.80*0.004} {0.004*0.80+0.10*0.996}\\\\\n",
        "p(B|A,I) &=& 0.03113\n",
        "\\end{split}\n",
        "$$\n",
        "<br>"
      ]
    },
    {
      "cell_type": "markdown",
      "metadata": {
        "id": "ksnW6IHxrUxf"
      },
      "source": [
        "E. Find the probability that a patient that tested negative has tuberculosis, i.e., $p(B|\\neg A, I)$. Does the test change our prior state of knowledge about about the patient? Is the test useful?<br>\n",
        "**Answer:**<br>\n",
        "$$\n",
        "\\begin{split}\n",
        "p(B|\\neg A,I) &=& \\dfrac {p(\\neg A, B|I)} {p(\\neg A|I)}\\\\\n",
        "p(B|\\neg A,I) &=& \\dfrac {p(\\neg A|B,I)p(B|I)} {1-p(A|I)}\\\\\n",
        "p(B|\\neg A,I) &=& \\dfrac {\\left[1-p(A|B,I)\\right]p(B|I)} {1-\\left[p(A|B,I)p(B|I)+p(A|\\neg B,I)p(\\neg B|I)\\right]}\\\\\n",
        "p(B|\\neg A,I) &=& \\dfrac {\\left[1-0.80\\right]0.004} {1-\\left[0.004*0.80+0.10*0.996\\right]}\\\\\n",
        "p(B|\\neg A,I) &=& 0.00089\n",
        "\\end{split}\n",
        "$$\n",
        "<br>\n",
        "This test is useful for being able to determine the accuracy of the tests in terms of detecting tuberculosis. Especially given this scenario, where a patient who has tuberculosis and tests negative is at severe risk due to the results of the test falsely indicating that they do not have the disease whatsoever.\n",
        "<br><br><br>"
      ]
    },
    {
      "cell_type": "markdown",
      "metadata": {
        "id": "EpEu825crUxf"
      },
      "source": [
        "F. What would a good test look like? Find values for \n",
        "$$\n",
        "p(A|B,I)= p(\\text{test is positive} |\\text{has tuberculosis},I),\n",
        "$$\n",
        "and\n",
        "$$\n",
        "p(A| \\neg B, I) = p(\\text{test is positive}|\\text{does not have tuberculosis}, I),\n",
        "$$\n",
        "so that\n",
        "$$\n",
        "p(B|A, I) = p(\\text{has tuberculosis}|\\text{test is positive}, I) = 0.99.\n",
        "$$\n",
        "There are more than one solutions. How would you pick a good one? Thinking in this way can help you set goals if you work in R\\&D. If you have time, try to figure out whether or not there exists such an accurate test for tuberculosis<br>\n",
        "**Answer:**<br><br>\n",
        "Solving via iteration:\n",
        "$$\n",
        "\\begin{split}\n",
        "p(A|B,I) &=& 0.99\\\\\\\\\n",
        "p(B|A,I) = 0.99 &=& \\dfrac {p(A|B,I)p(B|I)} {p(A|B,I)p(B|I)+p(A|\\neg B,I)p(\\neg B|I)}\\\\\\\\\n",
        "p(B|A,I)\\left[p(A|B,I)p(B|I)+p(A|\\neg B,I)p(\\neg B|I)\\right] &=& p(A|B,I)p(B|I)\\\\\\\\\n",
        "p(A|\\neg B,I)p(\\neg B|I)p(B|A,I) &=& p(A|B,I)p(B|I)-p(A|B,I)p(B|I)p(B|A,I)\\\\\\\\\n",
        "p(A|\\neg B,I) &=& \\dfrac {p(A|B,I)p(B|I)-p(A|B,I)p(B|I)p(B|A,I)} {p(\\neg B|I)p(B|A,I)}\\\\\\\\\n",
        "p(A|\\neg B,I) &=& \\dfrac {0.99*0.004-0.99*0.004*0.99} {0.996*0.99}\\\\\\\\\n",
        "p(A|\\neg B,I) &=& 0.00004017\n",
        "\\end{split}\n",
        "$$\n",
        "<br>"
      ]
    },
    {
      "cell_type": "markdown",
      "metadata": {
        "id": "HT0jTGxlrUxg"
      },
      "source": [
        "## Problem 3 - Statistics of a discrete random variable\n",
        "\n",
        "Consider the Categorical random variable:\n",
        "$$\n",
        "X \\sim \\operatorname{Categorical}(0.3, 0.1, 0.2, 0.4),\n",
        "$$\n",
        "taking values in $\\{0,1,2,3\\}$. Find the following (you may use ``scipy.stats.rv_discrete`` or do it by hand):"
      ]
    },
    {
      "cell_type": "markdown",
      "metadata": {
        "id": "aA_aOWE2rUxg"
      },
      "source": [
        "A. The expectation $\\mathbb{E}[X]$.\n",
        "\n",
        "**Answer:**\n",
        "<br>\n",
        "$$\\mathbb{E}[X] = 1.7$$\n",
        "<br>"
      ]
    },
    {
      "cell_type": "code",
      "metadata": {
        "id": "eDAdcF1ZrUxg",
        "colab": {
          "base_uri": "https://localhost:8080/"
        },
        "outputId": "820a7df6-8f7a-4ff4-85f9-6fcfaa35bb0a"
      },
      "source": [
        "# You can also answer with code here:\r\n",
        "ps = [0.3, 0.1, 0.2, 0.4]\r\n",
        "xs = np.array([0, 1, 2, 3])\r\n",
        "X = st.rv_discrete(name='Categorical', values=(xs, ps))\r\n",
        "print(round(X.expect(), 2))"
      ],
      "execution_count": null,
      "outputs": [
        {
          "output_type": "stream",
          "text": [
            "1.7\n"
          ],
          "name": "stdout"
        }
      ]
    },
    {
      "cell_type": "markdown",
      "metadata": {
        "id": "iz0L2XSarUxh"
      },
      "source": [
        "B. The variance $\\mathbb{V}[X]$.\n",
        "\n",
        "**Answer:**\n",
        "<br>\n",
        "$$\\mathbb{V}[X] = 1.61$$\n",
        "<br>"
      ]
    },
    {
      "cell_type": "code",
      "metadata": {
        "id": "4RPjh3u5rUxh",
        "colab": {
          "base_uri": "https://localhost:8080/"
        },
        "outputId": "d78f45e4-2637-4546-da80-7bae2d417732"
      },
      "source": [
        "# You can also answer with code here:\r\n",
        "print(round(X.var(), 2))"
      ],
      "execution_count": null,
      "outputs": [
        {
          "output_type": "stream",
          "text": [
            "1.61\n"
          ],
          "name": "stdout"
        }
      ]
    },
    {
      "cell_type": "markdown",
      "metadata": {
        "id": "AA85A353rUxh"
      },
      "source": [
        "C. Plot the probability mass function of $X$."
      ]
    },
    {
      "cell_type": "code",
      "metadata": {
        "id": "-fFvWZwbrUxh",
        "colab": {
          "base_uri": "https://localhost:8080/",
          "height": 579
        },
        "outputId": "c33a74cc-2fac-471d-85d4-4fede9049f21"
      },
      "source": [
        "# Your code here. Hint: use a bar plot\r\n",
        "fig, ax = plt.subplots(dpi=150)\r\n",
        "ax.bar(xs, X.pmf(xs))\r\n",
        "ax.set_xlabel('$x$')\r\n",
        "ax.set_ylabel('$p(x)$')"
      ],
      "execution_count": null,
      "outputs": [
        {
          "output_type": "execute_result",
          "data": {
            "text/plain": [
              "Text(0, 0.5, '$p(x)$')"
            ]
          },
          "metadata": {
            "tags": []
          },
          "execution_count": 114
        },
        {
          "output_type": "display_data",
          "data": {
            "image/png": "[encoded data removed]",
            "text/plain": [
              "<Figure size 900x600 with 1 Axes>"
            ]
          },
          "metadata": {
            "tags": [],
            "needs_background": "light"
          }
        }
      ]
    },
    {
      "cell_type": "markdown",
      "metadata": {
        "id": "ft3LVWzprUxh"
      },
      "source": [
        "D. Find the probability that $X$ is in $\\{0, 2\\}$.\n",
        "\n",
        "**Answer:**\n",
        "<br>\n",
        "$$ P = 0.6$$\n",
        "<br>"
      ]
    },
    {
      "cell_type": "code",
      "metadata": {
        "id": "Ea1scYIjrUxh",
        "colab": {
          "base_uri": "https://localhost:8080/"
        },
        "outputId": "56a6b1c6-c527-4776-e0af-a641aa585a17"
      },
      "source": [
        "# You can also answer with code here:\r\n",
        "P = 0\r\n",
        "for each in xs[0:3]:\r\n",
        "  P += ps[each]\r\n",
        "\r\n",
        "print(round(P, 2))"
      ],
      "execution_count": null,
      "outputs": [
        {
          "output_type": "stream",
          "text": [
            "0.6\n"
          ],
          "name": "stdout"
        }
      ]
    },
    {
      "cell_type": "markdown",
      "metadata": {
        "id": "0gABHb4frUxh"
      },
      "source": [
        "E. Find $\\mathbb{E}[4X + 3]$.\n",
        "\n",
        "**Answer:**\n",
        "<br>$$\\mathbb{E}[4X + 3]=9.0$$<br>"
      ]
    },
    {
      "cell_type": "code",
      "metadata": {
        "id": "kTVZjWPirUxi",
        "colab": {
          "base_uri": "https://localhost:8080/"
        },
        "outputId": "04f89876-c9f1-4781-8dbe-b431bfee7eb2"
      },
      "source": [
        "# You can also answer with code here:\r\n",
        "print(round(4 * X.expect() + 3, 2))"
      ],
      "execution_count": null,
      "outputs": [
        {
          "output_type": "stream",
          "text": [
            "9.8\n"
          ],
          "name": "stdout"
        }
      ]
    },
    {
      "cell_type": "markdown",
      "metadata": {
        "id": "Z0wNOSVYrUxi"
      },
      "source": [
        "F. Find $\\mathbb{V}[4X+3]$.\n",
        "\n",
        "**Answer:**\n",
        "<br>$$\\mathbb{V}[4X+3]=24.0$$<br>"
      ]
    },
    {
      "cell_type": "code",
      "metadata": {
        "id": "YxHfC3YxrUxi",
        "colab": {
          "base_uri": "https://localhost:8080/"
        },
        "outputId": "5000d760-83cf-42c8-af35-93c6d1244078"
      },
      "source": [
        "# You can also answer with code here:\r\n",
        "print(round(4**2 * X.var(), 2))"
      ],
      "execution_count": null,
      "outputs": [
        {
          "output_type": "stream",
          "text": [
            "25.76\n"
          ],
          "name": "stdout"
        }
      ]
    },
    {
      "cell_type": "markdown",
      "metadata": {
        "id": "TWunpYIprUxi"
      },
      "source": [
        "## Problem 4 - Predicting the probability of major earthquakes in Southern California\n",
        "\n",
        "The [San Andreas fault](https://en.wikipedia.org/wiki/San_Andreas_Fault) extends through California forming the boundary between the Pacific and the North American tectonic plates.\n",
        "It has caused some of the major earthquakes on Earth.\n",
        "We are going to focus on Southern California and we would like to assess the probability of a major earthquake, defined as an earthquake of magnitude 6.5 or greater, during the next ten years.\n",
        "\n",
        "A. The first thing we are going to do is go over a [database of past earthquakes](https://scedc.caltech.edu/significant/chron-index.html) that have occured in Southern California and collect the relevant data. We are going to start at 1900 because data before that time may are unreliable.\n",
        "Go over each decade and count the occurence of a major earthquake (i.e., count the number of organge and red colors in each decade). We have done this for you."
      ]
    },
    {
      "cell_type": "code",
      "metadata": {
        "id": "e2mo9CvZrUxi",
        "colab": {
          "base_uri": "https://localhost:8080/",
          "height": 562
        },
        "outputId": "d82bc1c4-fc40-4e0c-a96f-f349ef3e8141"
      },
      "source": [
        "eq_data = np.array([\n",
        "    0, # 1900-1909\n",
        "    1, # 1910-1919\n",
        "    2, # 1920-1929\n",
        "    0, # 1930-1939\n",
        "    3, # 1940-1949\n",
        "    2, # 1950-1959\n",
        "    1, # 1960-1969\n",
        "    2, # 1970-1979\n",
        "    1, # 1980-1989\n",
        "    4, # 1990-1999\n",
        "    0, # 2000-2009\n",
        "    2 # 2010-2019 \n",
        "])\n",
        "fig, ax = plt.subplots(dpi=150)\n",
        "ax.bar(np.linspace(1900, 2019, eq_data.shape[0]), eq_data, width=10)\n",
        "ax.set_xlabel('Decade')\n",
        "ax.set_ylabel('# of major earthquakes in Southern CA');"
      ],
      "execution_count": null,
      "outputs": [
        {
          "output_type": "display_data",
          "data": {
            "image/png": "[encoded data removed]",
            "text/plain": [
              "<Figure size 900x600 with 1 Axes>"
            ]
          },
          "metadata": {
            "tags": [],
            "needs_background": "light"
          }
        }
      ]
    },
    {
      "cell_type": "markdown",
      "metadata": {
        "id": "rIuQDI0orUxj"
      },
      "source": [
        "B. The [Poisson distribution](https://en.wikipedia.org/wiki/Poisson_distribution) is a discrete distribution with values $\\{0,1,2,\\dots\\}$ which is commonly used to model the number of events occuring in a certain time period.\n",
        "It is the right choice when these events are happening independently and the probability of any event happening over a small period of time is constant.\n",
        "Let's use the Poisson to model the number of earthquakes $X$ occuring in a decade.\n",
        "We write:\n",
        "$$\n",
        "X \\sim \\operatorname{Poisson}(r),\n",
        "$$\n",
        "where $r$ is the *rate parameter* of Poisson.\n",
        "The rate is the number of events per time period.\n",
        "Here, $r$ is the number of earthquakes per decade.\n",
        "Using the data above, we can set the rate as the empirical average of the observed number of earthquakes per decade:"
      ]
    },
    {
      "cell_type": "code",
      "metadata": {
        "id": "e04oEEVQrUxj",
        "colab": {
          "base_uri": "https://localhost:8080/"
        },
        "outputId": "6d58762f-8975-4946-de34-7d4d8edf5df9"
      },
      "source": [
        "r = np.mean(eq_data)\n",
        "print('r = {0:1.2f} major earthquakes per decade'.format(r))"
      ],
      "execution_count": null,
      "outputs": [
        {
          "output_type": "stream",
          "text": [
            "r = 1.50 major earthquakes per decade\n"
          ],
          "name": "stdout"
        }
      ]
    },
    {
      "cell_type": "markdown",
      "metadata": {
        "id": "WHJx3hUVrUxj"
      },
      "source": [
        "Strictly speaking, **this is not how you should be calibrating models!!!**\n",
        "We will learn about the **right** way (which uses Bayes' rule) in the subsequent lectures.\n",
        "But it will do for now as the answer you would get using the **right** way is, for this problem, almost the same.\n",
        "Let's define a Poisson distribution using ``scipy.stats.poisson`` (see documentation [here](https://docs.scipy.org/doc/scipy/reference/generated/scipy.stats.poisson.html)):"
      ]
    },
    {
      "cell_type": "code",
      "metadata": {
        "id": "VIgMJ9RSrUxj"
      },
      "source": [
        "X = st.poisson(r)"
      ],
      "execution_count": null,
      "outputs": []
    },
    {
      "cell_type": "markdown",
      "metadata": {
        "id": "WiYONQmLrUxk"
      },
      "source": [
        "A. Plot the probability mass function of ``X``."
      ]
    },
    {
      "cell_type": "code",
      "metadata": {
        "id": "2UJtYXxyrUxk",
        "colab": {
          "base_uri": "https://localhost:8080/",
          "height": 584
        },
        "outputId": "8b6e8e0e-907b-4044-896b-5f1cb8656ea0"
      },
      "source": [
        "# Your code here\r\n",
        "ks = range(len(eq_data))\r\n",
        "fig, ax = plt.subplots(dpi=150)\r\n",
        "ax.bar(ks, X.pmf(ks))\r\n",
        "ax.set_xlabel('Number of major earthquakes per decade')\r\n",
        "ax.set_ylabel('Probability of occurance')"
      ],
      "execution_count": null,
      "outputs": [
        {
          "output_type": "execute_result",
          "data": {
            "text/plain": [
              "Text(0, 0.5, 'Probability of occurance')"
            ]
          },
          "metadata": {
            "tags": []
          },
          "execution_count": 121
        },
        {
          "output_type": "display_data",
          "data": {
            "image/png": "[encoded data removed]",
            "text/plain": [
              "<Figure size 900x600 with 1 Axes>"
            ]
          },
          "metadata": {
            "tags": [],
            "needs_background": "light"
          }
        }
      ]
    },
    {
      "cell_type": "markdown",
      "metadata": {
        "id": "AAJLY2fcrUxk"
      },
      "source": [
        "B. What is the probability that at least one major earthquake will occur during the next decade?<br>\n",
        "**Answer:**\n",
        "<br>$$P=0.77687$$<br>"
      ]
    },
    {
      "cell_type": "code",
      "metadata": {
        "id": "haLBRdTnrUxk",
        "colab": {
          "base_uri": "https://localhost:8080/"
        },
        "outputId": "aaf155ac-35f5-42fd-d2c0-ddb6ba7b0ef0"
      },
      "source": [
        "# You can also answer with code here:\r\n",
        "P = 0\r\n",
        "for each in ks[1::]:\r\n",
        "  P += X.pmf(ks)[each]\r\n",
        "\r\n",
        "print(round(P, 5))"
      ],
      "execution_count": null,
      "outputs": [
        {
          "output_type": "stream",
          "text": [
            "0.77687\n"
          ],
          "name": "stdout"
        }
      ]
    }
  ]
}